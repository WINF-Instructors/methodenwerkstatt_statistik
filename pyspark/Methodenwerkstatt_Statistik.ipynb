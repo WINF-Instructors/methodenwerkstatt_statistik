{
 "cells": [
  {
   "cell_type": "code",
   "execution_count": 3,
   "id": "a6616e8c-b548-4afc-b060-fc177d3846c1",
   "metadata": {
    "execution": {
     "iopub.execute_input": "2023-03-25T19:43:36.412356Z",
     "iopub.status.busy": "2023-03-25T19:43:36.411978Z",
     "iopub.status.idle": "2023-03-25T19:43:37.879317Z",
     "shell.execute_reply": "2023-03-25T19:43:37.878347Z",
     "shell.execute_reply.started": "2023-03-25T19:43:36.412324Z"
    },
    "tags": []
   },
   "outputs": [
    {
     "data": {
      "application/vnd.jupyter.widget-view+json": {
       "model_id": "25868ff9269c4494b1f1d913e34161af",
       "version_major": 2,
       "version_minor": 0
      },
      "text/plain": [
       "VBox()"
      ]
     },
     "metadata": {},
     "output_type": "display_data"
    },
    {
     "data": {
      "application/vnd.jupyter.widget-view+json": {
       "model_id": "",
       "version_major": 2,
       "version_minor": 0
      },
      "text/plain": [
       "FloatProgress(value=0.0, bar_style='info', description='Progress:', layout=Layout(height='25px', width='50%'),…"
      ]
     },
     "metadata": {},
     "output_type": "display_data"
    },
    {
     "name": "stdout",
     "output_type": "stream",
     "text": [
      "/mnt1/yarn/usercache/livy/appcache/application_1679773006278_0001/container_1679773006278_0001_01_000001/pyspark.zip/pyspark/sql/context.py:114: FutureWarning: Deprecated in 3.0.0. Use SparkSession.builder.getOrCreate() instead."
     ]
    }
   ],
   "source": [
    "# Import Libraries\n",
    "from pyspark.sql.types import StructType, StructField, FloatType, BooleanType\n",
    "from pyspark.sql.types import DoubleType, IntegerType, StringType\n",
    "import pyspark\n",
    "from pyspark import SQLContext\n",
    "# Setup the Configuration\n",
    "conf = pyspark.SparkConf()\n",
    "spark_context = spark.builder.config(conf=conf).getOrCreate()\n",
    "sqlcontext = SQLContext(sc)\n",
    "# Setup the Schema\n",
    "schema = StructType([\n",
    "StructField(\"User ID\", IntegerType(),True),\n",
    "StructField(\"Username\", StringType(),True),\n",
    "StructField(\"Browser\", StringType(),True),\n",
    "StructField(\"OS\", StringType(),True),\n",
    "])\n",
    "# Add Data\n",
    "data = ([(1580, \"Barry\", \"FireFox\", \"Windows\" ),\n",
    "(5820, \"Sam\", \"MS Edge\", \"Linux\"),\n",
    "(2340, \"Harry\", \"Vivaldi\", \"Windows\"),\n",
    "(7860, \"Albert\", \"Chrome\", \"Windows\"),\n",
    "(1123, \"May\", \"Safari\", \"macOS\")\n",
    "])\n",
    "# Setup the Data Frame\n",
    "user_data_df = sqlcontext.createDataFrame(data,schema=schema)"
   ]
  },
  {
   "cell_type": "code",
   "execution_count": 4,
   "id": "9cb5fc29-e57a-4032-96e6-e32418ee238e",
   "metadata": {
    "execution": {
     "iopub.execute_input": "2023-03-25T19:43:52.082793Z",
     "iopub.status.busy": "2023-03-25T19:43:52.082445Z",
     "iopub.status.idle": "2023-03-25T19:44:05.832968Z",
     "shell.execute_reply": "2023-03-25T19:44:05.830008Z",
     "shell.execute_reply.started": "2023-03-25T19:43:52.082764Z"
    },
    "tags": []
   },
   "outputs": [
    {
     "data": {
      "application/vnd.jupyter.widget-view+json": {
       "model_id": "f82e984cc4df435c87047d9c5eda9e67",
       "version_major": 2,
       "version_minor": 0
      },
      "text/plain": [
       "VBox()"
      ]
     },
     "metadata": {},
     "output_type": "display_data"
    },
    {
     "data": {
      "application/vnd.jupyter.widget-view+json": {
       "model_id": "",
       "version_major": 2,
       "version_minor": 0
      },
      "text/plain": [
       "FloatProgress(value=0.0, bar_style='info', description='Progress:', layout=Layout(height='25px', width='50%'),…"
      ]
     },
     "metadata": {},
     "output_type": "display_data"
    },
    {
     "name": "stdout",
     "output_type": "stream",
     "text": [
      "+-------+--------+-------+-------+\n",
      "|User ID|Username|Browser|     OS|\n",
      "+-------+--------+-------+-------+\n",
      "|   1580|   Barry|FireFox|Windows|\n",
      "|   5820|     Sam|MS Edge|  Linux|\n",
      "|   2340|   Harry|Vivaldi|Windows|\n",
      "|   7860|  Albert| Chrome|Windows|\n",
      "|   1123|     May| Safari|  macOS|\n",
      "+-------+--------+-------+-------+"
     ]
    }
   ],
   "source": [
    "user_data_df.show()"
   ]
  },
  {
   "cell_type": "code",
   "execution_count": 13,
   "id": "da9017e1-a555-4405-a311-78a4dd0d8e96",
   "metadata": {
    "execution": {
     "iopub.execute_input": "2023-03-25T20:05:37.186003Z",
     "iopub.status.busy": "2023-03-25T20:05:37.185595Z",
     "iopub.status.idle": "2023-03-25T20:05:48.965775Z",
     "shell.execute_reply": "2023-03-25T20:05:48.964733Z",
     "shell.execute_reply.started": "2023-03-25T20:05:37.185966Z"
    },
    "tags": []
   },
   "outputs": [
    {
     "data": {
      "application/vnd.jupyter.widget-view+json": {
       "model_id": "ab556f8e88cf485ca3e50705d4049a37",
       "version_major": 2,
       "version_minor": 0
      },
      "text/plain": [
       "VBox()"
      ]
     },
     "metadata": {},
     "output_type": "display_data"
    },
    {
     "data": {
      "application/vnd.jupyter.widget-view+json": {
       "model_id": "",
       "version_major": 2,
       "version_minor": 0
      },
      "text/plain": [
       "FloatProgress(value=0.0, bar_style='info', description='Progress:', layout=Layout(height='25px', width='50%'),…"
      ]
     },
     "metadata": {},
     "output_type": "display_data"
    },
    {
     "name": "stdout",
     "output_type": "stream",
     "text": [
      "crawl-data/CC-MAIN-2020-16/segments/1585370490497.6/: 1\n",
      "crawl-data/CC-MAIN-2020-16/segments/1585370491857.4/: 1\n",
      "crawl-data/CC-MAIN-2020-16/segments/1585370491998.11/: 1\n",
      "crawl-data/CC-MAIN-2020-16/segments/1585370492125.18/: 1\n",
      "crawl-data/CC-MAIN-2020-16/segments/1585370493120.15/: 1\n",
      "crawl-data/CC-MAIN-2020-16/segments/1585370493121.36/: 1\n",
      "crawl-data/CC-MAIN-2020-16/segments/1585370493684.2/: 1\n",
      "crawl-data/CC-MAIN-2020-16/segments/1585370493818.32/: 1\n",
      "crawl-data/CC-MAIN-2020-16/segments/1585370494064.21/: 1\n",
      "crawl-data/CC-MAIN-2020-16/segments/1585370494331.42/: 1\n",
      "crawl-data/CC-MAIN-2020-16/segments/1585370494349.3/: 1\n",
      "crawl-data/CC-MAIN-2020-16/segments/1585370495413.19/: 1\n",
      "crawl-data/CC-MAIN-2020-16/segments/1585370496227.25/: 1\n",
      "crawl-data/CC-MAIN-2020-16/segments/1585370496330.1/: 1\n",
      "crawl-data/CC-MAIN-2020-16/segments/1585370496523.5/: 1\n",
      "crawl-data/CC-MAIN-2020-16/segments/1585370496669.0/: 1\n",
      "crawl-data/CC-MAIN-2020-16/segments/1585370496901.28/: 1\n",
      "crawl-data/CC-MAIN-2020-16/segments/1585370497042.33/: 1\n",
      "crawl-data/CC-MAIN-2020-16/segments/1585370497171.9/: 1\n",
      "crawl-data/CC-MAIN-2020-16/segments/1585370497301.29/: 1\n",
      "crawl-data/CC-MAIN-2020-16/segments/1585370497309.31/: 1\n",
      "crawl-data/CC-MAIN-2020-16/segments/1585370499280.44/: 1\n",
      "crawl-data/CC-MAIN-2020-16/segments/1585370500331.13/: 1\n",
      "crawl-data/CC-MAIN-2020-16/segments/1585370500426.22/: 1\n",
      "crawl-data/CC-MAIN-2020-16/segments/1585370500482.27/: 1\n",
      "crawl-data/CC-MAIN-2020-16/segments/1585370502513.35/: 1\n",
      "crawl-data/CC-MAIN-2020-16/segments/1585370503664.38/: 1\n",
      "crawl-data/CC-MAIN-2020-16/segments/1585370504930.16/: 1\n",
      "crawl-data/CC-MAIN-2020-16/segments/1585370505359.23/: 1\n",
      "crawl-data/CC-MAIN-2020-16/segments/1585370505366.8/: 1\n",
      "crawl-data/CC-MAIN-2020-16/segments/1585370505550.17/: 1\n",
      "crawl-data/CC-MAIN-2020-16/segments/1585370505730.14/: 1\n",
      "crawl-data/CC-MAIN-2020-16/segments/1585370505731.37/: 1\n",
      "crawl-data/CC-MAIN-2020-16/segments/1585370505826.39/: 1\n",
      "crawl-data/CC-MAIN-2020-16/segments/1585370506121.24/: 1\n",
      "crawl-data/CC-MAIN-2020-16/segments/1585370506477.26/: 1\n",
      "crawl-data/CC-MAIN-2020-16/segments/1585370506580.20/: 1\n",
      "crawl-data/CC-MAIN-2020-16/segments/1585370506673.7/: 1\n",
      "crawl-data/CC-MAIN-2020-16/segments/1585370506870.41/: 1\n",
      "crawl-data/CC-MAIN-2020-16/segments/1585370506959.34/: 1\n",
      "crawl-data/CC-MAIN-2020-16/segments/1585370506988.10/: 1\n",
      "crawl-data/CC-MAIN-2020-16/segments/1585370507738.45/: 1\n",
      "crawl-data/CC-MAIN-2020-16/segments/1585370508367.57/: 1\n",
      "crawl-data/CC-MAIN-2020-16/segments/1585370509103.51/: 1\n",
      "crawl-data/CC-MAIN-2020-16/segments/1585370510287.30/: 1\n",
      "crawl-data/CC-MAIN-2020-16/segments/1585370510352.43/: 1\n",
      "crawl-data/CC-MAIN-2020-16/segments/1585370510846.12/: 1\n",
      "crawl-data/CC-MAIN-2020-16/segments/1585370511408.40/: 1\n",
      "crawl-data/CC-MAIN-2020-16/segments/1585370515113.54/: 1\n",
      "crawl-data/CC-MAIN-2020-16/segments/1585370518622.65/: 1\n",
      "crawl-data/CC-MAIN-2020-16/segments/1585370518767.60/: 1\n",
      "crawl-data/CC-MAIN-2020-16/segments/1585370519111.47/: 1\n",
      "crawl-data/CC-MAIN-2020-16/segments/1585370520039.50/: 1\n",
      "crawl-data/CC-MAIN-2020-16/segments/1585370521574.59/: 1\n",
      "crawl-data/CC-MAIN-2020-16/segments/1585370521876.48/: 1\n",
      "crawl-data/CC-MAIN-2020-16/segments/1585370524043.56/: 1\n",
      "crawl-data/CC-MAIN-2020-16/segments/1585370524604.46/: 1\n",
      "crawl-data/CC-MAIN-2020-16/segments/1585370525223.55/: 1\n",
      "crawl-data/CC-MAIN-2020-16/segments/1585370526982.53/: 1\n",
      "crawl-data/CC-MAIN-2020-16/segments/1585370528224.61/: 1\n",
      "crawl-data/CC-MAIN-2020-16/segments/1585370529375.49/: 1\n",
      "crawl-data/CC-MAIN-2020-16/segments/1585371576284.74/: 1\n",
      "crawl-data/CC-MAIN-2020-16/segments/1585371604800.52/: 1\n",
      "crawl-data/CC-MAIN-2020-16/segments/1585371606067.71/: 1\n",
      "crawl-data/CC-MAIN-2020-16/segments/1585371609067.62/: 1\n",
      "crawl-data/CC-MAIN-2020-16/segments/1585371611051.77/: 1\n",
      "crawl-data/CC-MAIN-2020-16/segments/1585371612531.68/: 1\n",
      "crawl-data/CC-MAIN-2020-16/segments/1585371618784.58/: 1\n",
      "crawl-data/CC-MAIN-2020-16/segments/1585371620338.63/: 1\n",
      "crawl-data/CC-MAIN-2020-16/segments/1585371624083.66/: 1\n",
      "crawl-data/CC-MAIN-2020-16/segments/1585371637684.76/: 1\n",
      "crawl-data/CC-MAIN-2020-16/segments/1585371656216.67/: 1\n",
      "crawl-data/CC-MAIN-2020-16/segments/1585371660550.75/: 1\n",
      "crawl-data/CC-MAIN-2020-16/segments/1585371662966.69/: 1\n",
      "crawl-data/CC-MAIN-2020-16/segments/1585371665328.87/: 1\n",
      "crawl-data/CC-MAIN-2020-16/segments/1585371675859.64/: 1\n",
      "crawl-data/CC-MAIN-2020-16/segments/1585371700247.99/: 1\n",
      "crawl-data/CC-MAIN-2020-16/segments/1585371799447.70/: 1\n",
      "crawl-data/CC-MAIN-2020-16/segments/1585371803248.90/: 1\n",
      "crawl-data/CC-MAIN-2020-16/segments/1585371805747.72/: 1\n",
      "crawl-data/CC-MAIN-2020-16/segments/1585371806302.78/: 1\n",
      "crawl-data/CC-MAIN-2020-16/segments/1585371807538.83/: 1\n",
      "crawl-data/CC-MAIN-2020-16/segments/1585371810617.95/: 1\n",
      "crawl-data/CC-MAIN-2020-16/segments/1585371810807.81/: 1\n",
      "crawl-data/CC-MAIN-2020-16/segments/1585371813538.73/: 1\n",
      "crawl-data/CC-MAIN-2020-16/segments/1585371818008.97/: 1\n",
      "crawl-data/CC-MAIN-2020-16/segments/1585371821680.80/: 1\n",
      "crawl-data/CC-MAIN-2020-16/segments/1585371824409.86/: 1\n",
      "crawl-data/CC-MAIN-2020-16/segments/1585371826355.84/: 1\n",
      "crawl-data/CC-MAIN-2020-16/segments/1585371829677.89/: 1\n",
      "crawl-data/CC-MAIN-2020-16/segments/1585371830894.88/: 1\n",
      "crawl-data/CC-MAIN-2020-16/segments/1585371833063.93/: 1\n",
      "crawl-data/CC-MAIN-2020-16/segments/1585371858664.82/: 1\n",
      "crawl-data/CC-MAIN-2020-16/segments/1585371861991.79/: 1\n",
      "crawl-data/CC-MAIN-2020-16/segments/1585371876625.96/: 1\n",
      "crawl-data/CC-MAIN-2020-16/segments/1585371880945.85/: 1\n",
      "crawl-data/CC-MAIN-2020-16/segments/1585371883359.91/: 1\n",
      "crawl-data/CC-MAIN-2020-16/segments/1585371886991.92/: 1\n",
      "crawl-data/CC-MAIN-2020-16/segments/1585371893683.94/: 1\n",
      "crawl-data/CC-MAIN-2020-16/segments/1585371896913.98/: 1"
     ]
    }
   ],
   "source": [
    "from operator import add\n",
    "lines = spark.read.text(\"s3://statistics-workshop/segment.paths.gz\").rdd.map(lambda r: r[0])\n",
    "counts = lines.flatMap(lambda x: x.split(' ')).map(lambda x: (x, 1)).reduceByKey(add)\n",
    "output = counts.collect()\n",
    "for (word, count) in output:\n",
    "    print(\"%s: %i\" % (word, count))"
   ]
  },
  {
   "cell_type": "code",
   "execution_count": 33,
   "id": "e92ce8f6-2bcf-4802-baa7-5aff7c629a22",
   "metadata": {
    "execution": {
     "iopub.execute_input": "2023-03-25T20:20:01.143554Z",
     "iopub.status.busy": "2023-03-25T20:20:01.143036Z",
     "iopub.status.idle": "2023-03-25T20:20:09.387019Z",
     "shell.execute_reply": "2023-03-25T20:20:09.385822Z",
     "shell.execute_reply.started": "2023-03-25T20:20:01.143521Z"
    },
    "tags": []
   },
   "outputs": [
    {
     "data": {
      "application/vnd.jupyter.widget-view+json": {
       "model_id": "51ee55be05d64f92bef75ded837f3418",
       "version_major": 2,
       "version_minor": 0
      },
      "text/plain": [
       "VBox()"
      ]
     },
     "metadata": {},
     "output_type": "display_data"
    },
    {
     "data": {
      "application/vnd.jupyter.widget-view+json": {
       "model_id": "",
       "version_major": 2,
       "version_minor": 0
      },
      "text/plain": [
       "FloatProgress(value=0.0, bar_style='info', description='Progress:', layout=Layout(height='25px', width='50%'),…"
      ]
     },
     "metadata": {},
     "output_type": "display_data"
    },
    {
     "name": "stdout",
     "output_type": "stream",
     "text": [
      "root\n",
      " |-- Country: string (nullable = true)\n",
      " |-- Year: string (nullable = true)\n",
      " |-- GDP: string (nullable = true)\n",
      " |-- Urban_population: string (nullable = true)\n",
      " |-- Industry: string (nullable = true)\n",
      " |-- Business: string (nullable = true)\n",
      " |-- Mining: string (nullable = true)\n",
      " |-- Manufacturing: string (nullable = true)\n",
      " |-- Electricity_supply: string (nullable = true)\n",
      " |-- Water_supply: string (nullable = true)\n",
      " |-- Construction: string (nullable = true)\n",
      " |-- Retail trade: string (nullable = true)\n",
      " |-- Transportation: string (nullable = true)\n",
      " |-- Accommodation: string (nullable = true)\n",
      " |-- Information: string (nullable = true)\n",
      " |-- Financial: string (nullable = true)\n",
      " |-- Real estate : string (nullable = true)\n",
      " |-- Professional_scientific: string (nullable = true)\n",
      " |-- Administrative: string (nullable = true)\n",
      " |-- Public_administration: string (nullable = true)\n",
      " |-- Education: string (nullable = true)\n",
      " |-- Human_health: string (nullable = true)\n",
      " |-- Arts: string (nullable = true)\n",
      " |-- Other: string (nullable = true)"
     ]
    }
   ],
   "source": [
    "df = spark.read.option(\"header\",True).csv(\"s3://statistics-workshop/pay_gap_Europe.csv\")\n",
    "df.printSchema()"
   ]
  },
  {
   "cell_type": "code",
   "execution_count": 46,
   "id": "71d0c064-4134-4617-bfbf-95fdae9247ad",
   "metadata": {
    "execution": {
     "iopub.execute_input": "2023-03-25T20:34:09.571941Z",
     "iopub.status.busy": "2023-03-25T20:34:09.571600Z",
     "iopub.status.idle": "2023-03-25T20:34:10.045465Z",
     "shell.execute_reply": "2023-03-25T20:34:10.043275Z",
     "shell.execute_reply.started": "2023-03-25T20:34:09.571911Z"
    },
    "tags": []
   },
   "outputs": [
    {
     "data": {
      "application/vnd.jupyter.widget-view+json": {
       "model_id": "ef6e23940ae54e608b2e96986acb7b3d",
       "version_major": 2,
       "version_minor": 0
      },
      "text/plain": [
       "VBox()"
      ]
     },
     "metadata": {},
     "output_type": "display_data"
    },
    {
     "data": {
      "application/vnd.jupyter.widget-view+json": {
       "model_id": "",
       "version_major": 2,
       "version_minor": 0
      },
      "text/plain": [
       "FloatProgress(value=0.0, bar_style='info', description='Progress:', layout=Layout(height='25px', width='50%'),…"
      ]
     },
     "metadata": {},
     "output_type": "display_data"
    },
    {
     "name": "stdout",
     "output_type": "stream",
     "text": [
      "+-------+----+-----+\n",
      "|Country|Year|  GDP|\n",
      "+-------+----+-----+\n",
      "|Austria|2010|35390|\n",
      "|Austria|2011|36300|\n",
      "|Austria|2012|36390|\n",
      "|Austria|2013|36180|\n",
      "|Austria|2014|36130|\n",
      "|Austria|2015|36140|\n",
      "|Austria|2016|36390|\n",
      "|Austria|2017|36980|\n",
      "|Austria|2018|37690|\n",
      "|Austria|2019|38090|\n",
      "|Austria|2020|35480|\n",
      "|Austria|2021|36950|\n",
      "|Belgium|2010|33330|\n",
      "|Belgium|2011|33460|\n",
      "|Belgium|2012|33490|\n",
      "|Belgium|2013|33490|\n",
      "|Belgium|2014|33870|\n",
      "|Belgium|2015|34360|\n",
      "|Belgium|2016|34620|\n",
      "|Belgium|2017|35050|\n",
      "+-------+----+-----+\n",
      "only showing top 20 rows"
     ]
    }
   ],
   "source": [
    "import pyspark.sql.types as t\n",
    "import pyspark.sql.functions as f\n",
    "\n",
    "df = df.select(\"Country\",\"Year\",\"GDP\")\n",
    "df = df.withColumn(\"Year\",f.col(\"Year\").cast(t.IntegerType())).withColumn(\"GDP\",f.col(\"GDP\").cast(t.IntegerType()))\n",
    "df.show()\n"
   ]
  },
  {
   "cell_type": "code",
   "execution_count": 47,
   "id": "2a03e0e7-36f2-49b2-8774-27f49524a5fe",
   "metadata": {
    "execution": {
     "iopub.execute_input": "2023-03-25T20:34:23.219868Z",
     "iopub.status.busy": "2023-03-25T20:34:23.219427Z",
     "iopub.status.idle": "2023-03-25T20:34:24.773125Z",
     "shell.execute_reply": "2023-03-25T20:34:24.767855Z",
     "shell.execute_reply.started": "2023-03-25T20:34:23.219833Z"
    },
    "tags": []
   },
   "outputs": [
    {
     "data": {
      "application/vnd.jupyter.widget-view+json": {
       "model_id": "690cc55b7add4a90b263ea5a84c22d9a",
       "version_major": 2,
       "version_minor": 0
      },
      "text/plain": [
       "VBox()"
      ]
     },
     "metadata": {},
     "output_type": "display_data"
    },
    {
     "data": {
      "application/vnd.jupyter.widget-view+json": {
       "model_id": "",
       "version_major": 2,
       "version_minor": 0
      },
      "text/plain": [
       "FloatProgress(value=0.0, bar_style='info', description='Progress:', layout=Layout(height='25px', width='50%'),…"
      ]
     },
     "metadata": {},
     "output_type": "display_data"
    },
    {
     "name": "stdout",
     "output_type": "stream",
     "text": [
      "+--------------+------------------+\n",
      "|       Country|          avg(GDP)|\n",
      "+--------------+------------------+\n",
      "|       Croatia|11386.666666666666|\n",
      "|        Norway| 68508.33333333333|\n",
      "|      Slovenia|18816.666666666668|\n",
      "|        Poland|11295.833333333334|\n",
      "|      Portugal|17119.166666666668|\n",
      "|   Netherlands|39798.333333333336|\n",
      "|       Germany|34290.833333333336|\n",
      "|       Finland|           35717.5|\n",
      "|     Lithuania|12006.666666666666|\n",
      "|         Spain|           23250.0|\n",
      "|    Luxembourg| 83140.83333333333|\n",
      "|        Cyprus|22968.333333333332|\n",
      "|        Latvia|10905.833333333334|\n",
      "|      Slovakia|14391.666666666666|\n",
      "|       Belgium|           34437.5|\n",
      "|       Denmark|46413.333333333336|\n",
      "|       Estonia|           13677.5|\n",
      "|Czech Republic|16538.333333333332|\n",
      "|      Bulgaria| 5891.666666666667|\n",
      "|       Austria|36509.166666666664|\n",
      "+--------------+------------------+\n",
      "only showing top 20 rows"
     ]
    }
   ],
   "source": [
    "df2 = df.groupBy(\"Country\").mean(\"GDP\")\n",
    "df2.show()"
   ]
  },
  {
   "cell_type": "code",
   "execution_count": null,
   "id": "ac5d2045-4a79-4440-a84d-4f44a29d4847",
   "metadata": {},
   "outputs": [],
   "source": []
  }
 ],
 "metadata": {
  "kernelspec": {
   "display_name": "PySpark",
   "language": "",
   "name": "pysparkkernel"
  },
  "language_info": {
   "codemirror_mode": {
    "name": "python",
    "version": 2
   },
   "mimetype": "text/x-python",
   "name": "pyspark",
   "pygments_lexer": "python2"
  }
 },
 "nbformat": 4,
 "nbformat_minor": 5
}
